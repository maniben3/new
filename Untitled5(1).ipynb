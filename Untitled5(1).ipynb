{
  "cells": [
    {
      "cell_type": "markdown",
      "metadata": {
        "id": "view-in-github",
        "colab_type": "text"
      },
      "source": [
        "<a href=\"https://colab.research.google.com/github/maniben3/new/blob/main/Untitled5(1).ipynb\" target=\"_parent\"><img src=\"https://colab.research.google.com/assets/colab-badge.svg\" alt=\"Open In Colab\"/></a>"
      ]
    },
    {
      "cell_type": "code",
      "execution_count": 1,
      "metadata": {
        "colab": {
          "base_uri": "https://localhost:8080/"
        },
        "id": "37VvMM6kVn1f",
        "outputId": "ff66cb94-667a-4718-c74c-5d4ceda75c51"
      },
      "outputs": [
        {
          "output_type": "stream",
          "name": "stdout",
          "text": [
            "Looking in indexes: https://pypi.org/simple, https://us-python.pkg.dev/colab-wheels/public/simple/\n",
            "Collecting gmpy2\n",
            "  Downloading gmpy2-2.1.5-cp39-cp39-manylinux_2_17_x86_64.manylinux2014_x86_64.whl (1.7 MB)\n",
            "\u001b[2K     \u001b[90m━━━━━━━━━━━━━━━━━━━━━━━━━━━━━━━━━━━━━━━━\u001b[0m \u001b[32m1.7/1.7 MB\u001b[0m \u001b[31m18.2 MB/s\u001b[0m eta \u001b[36m0:00:00\u001b[0m\n",
            "\u001b[?25hInstalling collected packages: gmpy2\n",
            "Successfully installed gmpy2-2.1.5\n"
          ]
        }
      ],
      "source": [
        "pip install gmpy2\n"
      ]
    },
    {
      "cell_type": "code",
      "execution_count": 2,
      "metadata": {
        "colab": {
          "base_uri": "https://localhost:8080/"
        },
        "id": "6H8jk37gVn1Y",
        "outputId": "76ecdd7b-fcc1-4c69-a6a9-91f0d96304c3"
      },
      "outputs": [
        {
          "output_type": "stream",
          "name": "stdout",
          "text": [
            "3957809\n",
            "1.6437139511108398\n"
          ]
        }
      ],
      "source": [
        "import time\n",
        "import numpy as np\n",
        "from numba import njit\n",
        "\n",
        "\n",
        "@njit\n",
        "def simpleSieve(limit):\n",
        "    primes = []\n",
        "    mark = np.full(limit+1, True)\n",
        "    p = 2\n",
        "    while (p * p <= limit):\n",
        "        if (mark[p] == True):\n",
        "            for i in range(p * p, limit + 1, p):\n",
        "                mark[i] = False\n",
        "        p += 1\n",
        "    for p in range(2, limit):\n",
        "        if mark[p] == 1:\n",
        "            primes.append(p)\n",
        "    return primes\n",
        "\n",
        "\n",
        "start = time.time()\n",
        "primes = simpleSieve(2**26)\n",
        "print(len(primes))\n",
        "print(time.time()-start)\n"
      ]
    },
    {
      "cell_type": "code",
      "execution_count": 3,
      "metadata": {
        "id": "JBZeRlCgVn1l"
      },
      "outputs": [],
      "source": [
        "del primes[:106]\n"
      ]
    },
    {
      "cell_type": "code",
      "execution_count": 3,
      "metadata": {
        "id": "C-1GBW4TVn1m"
      },
      "outputs": [],
      "source": [
        "@njit\n",
        "def n4(np_primes, np_inv, x, c):\n",
        "    fp4 = []\n",
        "    for i in range(len(np_primes)):\n",
        "        a = ((np_primes[i]-((x[i]+c) % np_primes[i]))*np_inv[i]) % np_primes[i]\n",
        "        fp4.append(a)\n",
        "        # np_fp4=np.array(fp4,dtype=np.uint32)\n",
        "    return fp4\n"
      ]
    },
    {
      "cell_type": "code",
      "execution_count": 4,
      "metadata": {
        "id": "dLx6CxjBVn1n"
      },
      "outputs": [],
      "source": [
        "from gmpy2 import powmod\n",
        "import gmpy2\n",
        "primorial = gmpy2.primorial(300)\n",
        "np_primes = np.asarray(primes, dtype=np.uint32)\n",
        "\n",
        "\n",
        "def inverse(hash, p):\n",
        "    return (powmod(hash, p-2, p))\n",
        "\n",
        "\n",
        "np_inv = np.zeros(len(np_primes), dtype=np.uint32)\n",
        "# primorial =2*3*5*7*11*13*17*19*23*29*31*37*41*43*47*53*59*61*67*71*73*79*83*89*97*101*103*107*109*113*127*131*137*139*149* 151* 157* 163* 167* 173* 179* 181* 191* 193* 197* 199* 211* 223* 227* 229* 233* 239* 241* 251* 257* 263* 269* 271* 277* 281* 283* 293* 307* 311* 313* 317* 331* 337* 347* 349* 353* 359* 367* 373* 379* 383* 389* 397* 401* 409* 419* 421* 431* 433* 439* 443* 449* 457* 461* 463* 467* 479* 487* 491* 499* 503* 509* 521* 523* 541\n",
        "for i in range(len(np_primes)):\n",
        "    np_inv[i] = powmod(primorial, int(np_primes[i])-2, int(np_primes[i]))\n",
        "primorial = int(primorial)\n"
      ]
    },
    {
      "cell_type": "code",
      "execution_count": 5,
      "metadata": {
        "id": "Ie7FJp-9Vn1o"
      },
      "outputs": [],
      "source": [
        "from gmpy2 import t_mod\n",
        "x = 2**700  # *primorial\n",
        "ff = np.zeros(len(np_primes), dtype=np.uint32)\n",
        "for i in range(len(np_primes)):\n",
        "    ff[i] = t_mod(x, int(np_primes[i]))\n",
        "inv1 = np.asarray(n4(np_primes, np_inv, ff, 0), dtype=np.uint32)\n",
        "inv2 = np.asarray(n4(np_primes, np_inv, ff, 2), dtype=np.uint32)\n",
        "inv3 = np.asarray(n4(np_primes, np_inv, ff, 6), dtype=np.uint32)\n",
        "inv4 = np.asarray(n4(np_primes, np_inv, ff, 8), dtype=np.uint32)\n",
        "inv5 = np.asarray(n4(np_primes, np_inv, ff, 12), dtype=np.uint32)\n",
        "inv6 = np.asarray(n4(np_primes, np_inv, ff, 18), dtype=np.uint32)\n",
        "inv7 = np.asarray(n4(np_primes, np_inv, ff, 20), dtype=np.uint32)\n"
      ]
    },
    {
      "cell_type": "code",
      "execution_count": 6,
      "metadata": {
        "id": "-ojDQ06QVn1q"
      },
      "outputs": [],
      "source": [
        "import time\n",
        "import cupy as cp\n",
        "tim = time.time()\n",
        "n = 9\n",
        "arr = cp.ones(2**32, dtype=cp.uint8)\n",
        "prime = cp.asarray(np_primes,dtype=cp.uint32)\n",
        "cinv1 = cp.asarray(inv1,dtype=cp.uint32)\n",
        "cinv2 = cp.asarray(inv2,dtype=cp.uint32)\n",
        "cinv3 = cp.asarray(inv3,dtype=cp.uint32)\n",
        "cinv4 = cp.asarray(inv4,dtype=cp.uint32)\n",
        "cinv5 = cp.asarray(inv5,dtype=cp.uint32)\n",
        "cinv6 = cp.asarray(inv6,dtype=cp.uint32)\n",
        "cinv7 = cp.asarray(inv7,dtype=cp.uint32)\n"
      ]
    },
    {
      "cell_type": "code",
      "source": [
        "cinv1[400]"
      ],
      "metadata": {
        "id": "YXuzxHYf8ZlA",
        "outputId": "f20b6626-2537-464a-db19-1006f89b5750",
        "colab": {
          "base_uri": "https://localhost:8080/"
        }
      },
      "execution_count": 9,
      "outputs": [
        {
          "output_type": "execute_result",
          "data": {
            "text/plain": [
              "array(597, dtype=uint32)"
            ]
          },
          "metadata": {},
          "execution_count": 9
        }
      ]
    },
    {
      "cell_type": "code",
      "execution_count": 7,
      "metadata": {
        "id": "PjgeEfBwMKo8"
      },
      "outputs": [],
      "source": [
        "from numba import cuda\n",
        "\n",
        "\n",
        "@cuda.jit\n",
        "def check(arr, prime, inv1, inv2, inv3, inv4, inv5, inv6, inv7):\n",
        "    # Get the global thread index\n",
        "    tx = cuda.threadIdx.x\n",
        "    bx = cuda.blockIdx.x\n",
        "    bw = cuda.blockDim.x\n",
        "    a = inv1[bx]+tx*prime[bx]\n",
        "    if a < 2**32:\n",
        "        arr[a] = 0\n",
        "    b = inv2[bx]+tx*prime[bx]\n",
        "    if b < 2**32:\n",
        "        arr[b] = 0\n",
        "    c = inv3[bx]+tx*prime[bx]\n",
        "    if c < 2**32:\n",
        "        arr[c] = 0\n",
        "    d = inv4[bx]+tx*prime[bx]\n",
        "    if d < 2**32:\n",
        "        arr[d] = 0\n",
        "    e = inv5[bx]+tx*prime[bx]\n",
        "    if e < 2**32:\n",
        "        arr[e] = 0 \n",
        "    f = inv6[bx]+tx*prime[bx]\n",
        "    if f < 2**32:\n",
        "        arr[f] = 0\n",
        "    g = inv7[bx]+tx*prime[bx]\n",
        "    if g < 2**32:\n",
        "        arr[g] = 0\n"
      ]
    },
    {
      "cell_type": "code",
      "source": [
        "import math\n",
        "import numpy as np\n",
        "import cupy\n",
        "from cupyx.profiler import benchmark\n",
        "\n",
        "\n",
        "\n",
        "# CUDA code\n",
        "histogram_cuda_code = r'''\n",
        "extern \"C\"\n",
        "__global__ void histogram(unsigned char *arr, int*prime, int *inv1, int *inv2, int *inv3, int *inv4, int *inv5, int *inv6, int *inv7)\n",
        "{\n",
        "    int bx = blockIdx.x * blockDim.x;\n",
        "    int tx = threadIdx.x;\n",
        "\n",
        "    int a = inv1[bx]+tx*prime[bx]\n",
        "\n",
        "    if (a < 2000000000){\n",
        "        arr[a] = 0};\n",
        "    int b = inv2[bx]+tx*prime[bx]\n",
        "\n",
        "    if (b < 2000000000){\n",
        "        arr[b] = 0};\n",
        "    int c = inv3[bx]+tx*prime[bx]\n",
        "\n",
        "    if (c < 2000000000){\n",
        "        arr[c] = 0};\n",
        "    int d = inv4[bx]+tx*prime[bx]\n",
        "\n",
        "    if (d < 2000000000){\n",
        "        arr[d] = 0};\n",
        "    int e = inv5[bx]+tx*prime[bx]\n",
        "\n",
        "    if (e < 2000000000){\n",
        "        arr[e] = 0 };\n",
        "    int f = inv6[bx]+tx*prime[bx]\n",
        "\n",
        "    if (f < 2000000000){\n",
        "        arr[f] = 0};\n",
        "    int g = inv7[bx]+tx*prime[bx]\n",
        "\n",
        "    if (g < 2000000000){\n",
        "        arr[g] = 0};\n",
        "\n",
        "    \n",
        "\n",
        "}\n",
        "'''\n",
        "\n",
        "histogram_gpu = cupy.RawKernel(histogram_cuda_code, \"histogram\")"
      ],
      "metadata": {
        "id": "gFRlCbHRx2Uj"
      },
      "execution_count": 10,
      "outputs": []
    },
    {
      "cell_type": "code",
      "source": [
        "import math\n",
        "import numpy as np\n",
        "import cupy\n",
        "from cupyx.profiler import benchmark\n",
        "\n",
        "\n",
        "\n",
        "# CUDA code\n",
        "histogram_cuda_code = r'''\n",
        "extern \"C\"\n",
        "__global__ void histogram(unsigned char *arr, unsigned int * prime, unsigned int * inv1, unsigned int *inv2, unsigned int   *inv3, unsigned int   *inv4, unsigned int   *inv5, unsigned int   *inv6, unsigned int   *inv7)\n",
        "{\n",
        "     unsigned int tid = blockIdx.x ;\n",
        "     unsigned int tx =  threadIdx.x;\n",
        "     unsigned int a = tid *tx + tx *tid;\n",
        "     arr[a] = 0;\n",
        "     unsigned int b = tid *tx + tx *tid;\n",
        "     arr[b] = 0;\n",
        "     unsigned int c = tid *tx + tx *tid;\n",
        "     arr[c] = 0;\n",
        "     unsigned int d = tid *tx + tx *tid;\n",
        "     arr[d] = 0;\n",
        "     unsigned int e = tid *tx + tx *tid;\n",
        "     arr[e] = 0;\n",
        "     unsigned int f = tid *tx + tx *tid;\n",
        "     arr[f] = 0;\n",
        "     unsigned int g = tid *tx + tx *tid;\n",
        "     arr[g] = 0;\n",
        "\n",
        "}\n",
        "'''\n",
        "\n",
        "histogram_gpu = cupy.RawKernel(histogram_cuda_code, \"histogram\")"
      ],
      "metadata": {
        "id": "jnrc9ljY0Prz"
      },
      "execution_count": 14,
      "outputs": []
    },
    {
      "cell_type": "code",
      "source": [
        "cinv1"
      ],
      "metadata": {
        "id": "8dayZORH-QO-"
      },
      "execution_count": null,
      "outputs": []
    },
    {
      "cell_type": "code",
      "source": [
        "threads_per_block = 1024\n",
        "grid_size = (1000, )\n",
        "block_size = (threads_per_block,)\n",
        "histogram_gpu(grid_size, block_size, (arr, prime, cinv1, cinv2, cinv3, cinv4, cinv5, cinv6, cinv7))\n",
        "cp.cuda.stream.get_current_stream().synchronize()"
      ],
      "metadata": {
        "id": "dIT9WNHrxqSh"
      },
      "execution_count": 15,
      "outputs": []
    },
    {
      "cell_type": "code",
      "source": [
        "import time\n",
        "start = time.time()\n",
        "threads_per_block = 1024\n",
        "grid_size = (200000, )\n",
        "block_size = (threads_per_block,)\n",
        "histogram_gpu(grid_size, block_size, (arr, prime, cinv1, cinv2, cinv3, cinv4, cinv5, cinv6, cinv7))\n",
        "print(arr[:10])\n",
        "print(time.time()-start)"
      ],
      "metadata": {
        "id": "AHMH7M8D6QOS",
        "outputId": "206670f4-47cf-42f5-ba95-620b48a993ff",
        "colab": {
          "base_uri": "https://localhost:8080/"
        }
      },
      "execution_count": 17,
      "outputs": [
        {
          "output_type": "stream",
          "name": "stdout",
          "text": [
            "[0 0 0 0 0 0 0 0 0 0]\n",
            "0.29750847816467285\n"
          ]
        }
      ]
    },
    {
      "cell_type": "code",
      "source": [
        "100000*1024*7"
      ],
      "metadata": {
        "id": "4DZNRAcjNCUp",
        "outputId": "64161a0f-490c-4109-a55a-0e46af4c69e4",
        "colab": {
          "base_uri": "https://localhost:8080/"
        }
      },
      "execution_count": 44,
      "outputs": [
        {
          "output_type": "execute_result",
          "data": {
            "text/plain": [
              "716800000"
            ]
          },
          "metadata": {},
          "execution_count": 44
        }
      ]
    },
    {
      "cell_type": "code",
      "execution_count": 33,
      "metadata": {
        "id": "Q-PDUKJ1Vn1t",
        "colab": {
          "base_uri": "https://localhost:8080/"
        },
        "outputId": "93526741-7fe9-41ae-d95f-abad95fb17b2"
      },
      "outputs": [
        {
          "output_type": "stream",
          "name": "stdout",
          "text": [
            "[0 0 0 0 0 0 0 0 0 0]\n",
            "1.0135769844055176\n"
          ]
        }
      ],
      "source": [
        "import time\n",
        "start = time.time()\n",
        "threadsperblock = 1024\n",
        "blockspergrid = 100000\n",
        "check[blockspergrid, threadsperblock](arr, prime, cinv1, cinv2, cinv3, cinv4, cinv5, cinv6, cinv7)\n",
        "print(arr[:10])\n",
        "print(time.time()-start)"
      ]
    },
    {
      "cell_type": "code",
      "source": [],
      "metadata": {
        "id": "ym6zbP1vKyh1"
      },
      "execution_count": null,
      "outputs": []
    }
  ],
  "metadata": {
    "colab": {
      "provenance": [],
      "include_colab_link": true
    },
    "kernelspec": {
      "display_name": "Python 3",
      "name": "python3"
    },
    "language_info": {
      "name": "python",
      "version": "3.11.0"
    },
    "accelerator": "GPU",
    "gpuClass": "standard"
  },
  "nbformat": 4,
  "nbformat_minor": 0
}