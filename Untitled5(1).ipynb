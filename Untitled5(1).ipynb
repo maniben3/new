{
  "cells": [
    {
      "cell_type": "markdown",
      "metadata": {
        "colab_type": "text",
        "id": "view-in-github"
      },
      "source": [
        "<a href=\"https://colab.research.google.com/github/maniben3/new/blob/main/Untitled5(1).ipynb\" target=\"_parent\"><img src=\"https://colab.research.google.com/assets/colab-badge.svg\" alt=\"Open In Colab\"/></a>"
      ]
    },
    {
      "cell_type": "code",
      "execution_count": null,
      "metadata": {
        "id": "PjgeEfBwMKo8"
      },
      "outputs": [],
      "source": [
        "from numba import cuda\n",
        "@cuda.jit\n",
        "def check(arr,prime,inv1,inv2,inv3,inv4,inv5,inv6,inv7):\n",
        "      # Get the global thread index\n",
        "    tx = cuda.threadIdx.x\n",
        "    bx = cuda.blockIdx.x\n",
        "    bw = cuda.blockDim.x\n",
        "    c=prime[tx]+tx*inv1[tx]\n",
        "    if c < 10**10:\n",
        "         arr[c]=0"
      ]
    }
  ],
  "metadata": {
    "colab": {
      "authorship_tag": "ABX9TyOs7OaBJgCDWP4EJivuzL+h",
      "include_colab_link": true,
      "provenance": []
    },
    "kernelspec": {
      "display_name": "Python 3",
      "name": "python3"
    },
    "language_info": {
      "name": "python"
    }
  },
  "nbformat": 4,
  "nbformat_minor": 0
}
