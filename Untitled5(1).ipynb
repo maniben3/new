{
  "cells": [
    {
      "attachments": {},
      "cell_type": "markdown",
      "metadata": {
        "colab_type": "text",
        "id": "view-in-github"
      },
      "source": [
        "<a href=\"https://colab.research.google.com/github/maniben3/new/blob/main/Untitled5(1).ipynb\" target=\"_parent\"><img src=\"https://colab.research.google.com/assets/colab-badge.svg\" alt=\"Open In Colab\"/></a>\n"
      ]
    },
    {
      "cell_type": "code",
      "execution_count": null,
      "metadata": {},
      "outputs": [],
      "source": [
        "import time\n",
        "import numpy as np\n",
        "from numba import njit\n",
        "\n",
        "\n",
        "@njit\n",
        "def simpleSieve(limit):\n",
        "    primes = []\n",
        "    mark = np.full(limit+1, True)\n",
        "    p = 2\n",
        "    while (p * p <= limit):\n",
        "        if (mark[p] == True):\n",
        "            for i in range(p * p, limit + 1, p):\n",
        "                mark[i] = False\n",
        "        p += 1\n",
        "    for p in range(2, limit):\n",
        "        if mark[p] == 1:\n",
        "            primes.append(p)\n",
        "    return primes\n",
        "\n",
        "\n",
        "start = time.time()\n",
        "primes = simpleSieve(2**26)\n",
        "print(len(primes))\n",
        "print(time.time()-start)\n"
      ]
    },
    {
      "cell_type": "code",
      "execution_count": null,
      "metadata": {},
      "outputs": [],
      "source": [
        "pip install gmpy2\n"
      ]
    },
    {
      "cell_type": "code",
      "execution_count": null,
      "metadata": {},
      "outputs": [],
      "source": [
        "del primes[:106]\n"
      ]
    },
    {
      "cell_type": "code",
      "execution_count": null,
      "metadata": {},
      "outputs": [],
      "source": [
        "@njit\n",
        "def n4(np_primes, np_inv, x, c):\n",
        "    fp4 = []\n",
        "    for i in range(len(np_primes)):\n",
        "        a = ((np_primes[i]-((x[i]+c) % np_primes[i]))*np_inv[i]) % np_primes[i]\n",
        "        fp4.append(a)\n",
        "        # np_fp4=np.array(fp4,dtype=np.uint32)\n",
        "    return fp4\n"
      ]
    },
    {
      "cell_type": "code",
      "execution_count": null,
      "metadata": {},
      "outputs": [],
      "source": [
        "from gmpy2 import powmod\n",
        "import gmpy2\n",
        "primorial = gmpy2.primorial(300)\n",
        "np_primes = np.asarray(primes, dtype=np.uint32)\n",
        "\n",
        "\n",
        "def inverse(hash, p):\n",
        "    return (powmod(hash, p-2, p))\n",
        "\n",
        "\n",
        "np_inv = np.zeros(len(np_primes), dtype=np.uint32)\n",
        "# primorial =2*3*5*7*11*13*17*19*23*29*31*37*41*43*47*53*59*61*67*71*73*79*83*89*97*101*103*107*109*113*127*131*137*139*149* 151* 157* 163* 167* 173* 179* 181* 191* 193* 197* 199* 211* 223* 227* 229* 233* 239* 241* 251* 257* 263* 269* 271* 277* 281* 283* 293* 307* 311* 313* 317* 331* 337* 347* 349* 353* 359* 367* 373* 379* 383* 389* 397* 401* 409* 419* 421* 431* 433* 439* 443* 449* 457* 461* 463* 467* 479* 487* 491* 499* 503* 509* 521* 523* 541\n",
        "for i in range(len(np_primes)):\n",
        "    np_inv[i] = powmod(primorial, int(np_primes[i])-2, int(np_primes[i]))\n",
        "primorial = int(primorial)\n"
      ]
    },
    {
      "cell_type": "code",
      "execution_count": null,
      "metadata": {},
      "outputs": [],
      "source": [
        "from gmpy2 import t_mod\n",
        "x = 2**700  # *primorial\n",
        "ff = np.zeros(len(np_primes), dtype=np.uint32)\n",
        "for i in range(len(np_primes)):\n",
        "    ff[i] = t_mod(x, int(np_primes[i]))\n",
        "inv1 = np.asarray(n4(np_primes, np_inv, ff, 0), dtype=np.uint32)\n",
        "inv2 = np.asarray(n4(np_primes, np_inv, ff, 2), dtype=np.uint32)\n",
        "inv3 = np.asarray(n4(np_primes, np_inv, ff, 6), dtype=np.uint32)\n",
        "inv4 = np.asarray(n4(np_primes, np_inv, ff, 8), dtype=np.uint32)\n",
        "inv5 = np.asarray(n4(np_primes, np_inv, ff, 12), dtype=np.uint32)\n",
        "inv6 = np.asarray(n4(np_primes, np_inv, ff, 18), dtype=np.uint32)\n",
        "inv7 = np.asarray(n4(np_primes, np_inv, ff, 20), dtype=np.uint32)\n"
      ]
    },
    {
      "cell_type": "code",
      "execution_count": null,
      "metadata": {},
      "outputs": [],
      "source": [
        "import time\n",
        "import cupy as cp\n",
        "tim = time.time()\n",
        "n = 9\n",
        "arr = cp.ones(2**32, dtype=cp.uint8)\n",
        "prime = cp.asarray(np_primes)\n",
        "cinv1 = cp.asarray(inv1)\n",
        "cinv2 = cp.asarray(inv2)\n",
        "cinv3 = cp.asarray(inv3)\n",
        "cinv4 = cp.asarray(inv4)\n",
        "cinv5 = cp.asarray(inv5)\n",
        "cinv6 = cp.asarray(inv6)\n",
        "cinv7 = cp.asarray(inv7)\n"
      ]
    },
    {
      "cell_type": "code",
      "execution_count": null,
      "metadata": {
        "id": "PjgeEfBwMKo8"
      },
      "outputs": [],
      "source": [
        "from numba import cuda\n",
        "\n",
        "\n",
        "@cuda.jit\n",
        "def check(arr, prime, inv1, inv2, inv3, inv4, inv5, inv6, inv7):\n",
        "    # Get the global thread index\n",
        "    tx = cuda.threadIdx.x\n",
        "    bx = cuda.blockIdx.x\n",
        "    bw = cuda.blockDim.x\n",
        "    a = prime[bx]+tx*inv1[bx]\n",
        "    if a < 2**32:\n",
        "        arr[a] = 0\n",
        "    b = prime[bx]+tx*inv2[bx]\n",
        "    if b < 2**32:\n",
        "        arr[b] = 0\n",
        "    c = prime[bx]+tx*inv3[bx]\n",
        "    if c < 2**32:\n",
        "        arr[c] = 0\n",
        "    d = prime[bx]+tx*inv4[bx]\n",
        "    if d < 2**32:\n",
        "        arr[d] = 0\n",
        "    e = prime[bx]+tx*inv5[bx]\n",
        "    if e < 2**32:\n",
        "        arr[e] = 0\n",
        "    f = prime[bx]+tx*inv6[bx]\n",
        "    if f < 2**32:\n",
        "        arr[f] = 0\n",
        "    g = prime[bx]+tx*inv7[bx]\n",
        "    if g < 2**32:\n",
        "        arr[g] = 0\n"
      ]
    },
    {
      "cell_type": "code",
      "execution_count": null,
      "metadata": {},
      "outputs": [],
      "source": [
        "import time\n",
        "start = time.time()\n",
        "threadsperblock = 256\n",
        "blockspergrid = 106\n",
        "check[blockspergrid, threadsperblock](\n",
        "    arr, prime, cinv1, cinv2, cinv3, cinv4, cinv5, cinv6, cinv7)\n",
        "print(arr[:1000])\n",
        "print(time.time()-start)\n"
      ]
    }
  ],
  "metadata": {
    "colab": {
      "authorship_tag": "ABX9TyOs7OaBJgCDWP4EJivuzL+h",
      "include_colab_link": true,
      "provenance": []
    },
    "kernelspec": {
      "display_name": "Python 3",
      "name": "python3"
    },
    "language_info": {
      "name": "python",
      "version": "3.11.0"
    }
  },
  "nbformat": 4,
  "nbformat_minor": 0
}
