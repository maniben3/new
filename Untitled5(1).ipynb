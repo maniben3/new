{
  "cells": [
    {
      "cell_type": "markdown",
      "metadata": {
        "colab_type": "text",
        "id": "view-in-github"
      },
      "source": [
        "<a href=\"https://colab.research.google.com/github/maniben3/new/blob/main/Untitled5(1).ipynb\" target=\"_parent\"><img src=\"https://colab.research.google.com/assets/colab-badge.svg\" alt=\"Open In Colab\"/></a>"
      ]
    },
    {
      "cell_type": "code",
      "execution_count": null,
      "metadata": {
        "id": "PjgeEfBwMKo8"
      },
      "outputs": [],
      "source": [
        "from numba import cuda\n",
        "@cuda.jit\n",
        "def check(arr,prime,inv1,inv2,inv3,inv4,inv5,inv6,inv7):\n",
        "      # Get the global thread index\n",
        "    tx = cuda.threadIdx.x\n",
        "    bx = cuda.blockIdx.x\n",
        "    bw = cuda.blockDim.x\n",
        "    a=prime[bx]+tx*inv1[bx]\n",
        "    if a < 10**10:\n",
        "         arr[a]=0\n",
        "    b=prime[bx]+tx*inv2[bx]   \n",
        "    if b < 10**10:\n",
        "          arr[b]=0\n",
        "    c=prime[bx]+tx*inv3[bx]\n",
        "    if c < 10**10:\n",
        "          arr[c]=0\n",
        "    d=prime[bx]+tx*inv4[bx]\n",
        "    if d < 10**10:  \n",
        "          arr[d]=0\n",
        "    e=prime[bx]+tx*inv5[bx]\n",
        "    if e < 10**10:  \n",
        "          arr[e]=0\n",
        "    f=prime[bx]+tx*inv6[bx]\n",
        "    if f < 10**10:\n",
        "          arr[f]=0\n",
        "    g=prime[bx]+tx*inv7[bx]\n",
        "    if g < 10**10:\n",
        "          arr[g]=0\n"
      ]
    },
    {
      "cell_type": "code",
      "execution_count": null,
      "metadata": {},
      "outputs": [],
      "source": []
    }
  ],
  "metadata": {
    "colab": {
      "authorship_tag": "ABX9TyOs7OaBJgCDWP4EJivuzL+h",
      "include_colab_link": true,
      "provenance": []
    },
    "kernelspec": {
      "display_name": "Python 3",
      "name": "python3"
    },
    "language_info": {
      "name": "python",
      "version": "3.11.0"
    }
  },
  "nbformat": 4,
  "nbformat_minor": 0
}
